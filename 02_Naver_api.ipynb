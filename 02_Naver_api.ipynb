{
 "cells": [
  {
   "cell_type": "markdown",
   "id": "ddee5d5d",
   "metadata": {},
   "source": [
    "### 크롤링 정책\n",
    "- robots.txt : 크롤링 정책을 설명한 페이지\n",
    "- 과도한 크롤링으로 서비스에 영향을 주었을때 법적 문제가 있을수 있다.\n",
    "- api 사용"
   ]
  },
  {
   "cell_type": "markdown",
   "id": "0bdb3c41",
   "metadata": {},
   "source": [
    "### API 서비스를 이용한 데이터 수집\n",
    "- NAVER api(application programming interface)\n",
    "- application 등록 : app_key\n",
    "- document 확인 : url\n",
    "- request(url, app_key, data) > response(json(str))\n",
    "- json(str) > list,dict"
   ]
  },
  {
   "cell_type": "code",
   "execution_count": 8,
   "id": "62b4835e",
   "metadata": {},
   "outputs": [],
   "source": [
    "import requests\n",
    "import pandas as pd\n",
    "import json"
   ]
  },
  {
   "cell_type": "markdown",
   "id": "59cfb264",
   "metadata": {},
   "source": [
    "#### KAKAO : 번역 api"
   ]
  },
  {
   "cell_type": "code",
   "execution_count": 4,
   "id": "e5941195",
   "metadata": {},
   "outputs": [],
   "source": [
    "# 1.application 등록 : app_key"
   ]
  },
  {
   "cell_type": "code",
   "execution_count": 20,
   "id": "3ce59dbf",
   "metadata": {},
   "outputs": [],
   "source": [
    "APP_KEY = \"b9ad5a416320af63b996c30c31b5e8f6\""
   ]
  },
  {
   "cell_type": "code",
   "execution_count": 9,
   "id": "f10165f3",
   "metadata": {},
   "outputs": [],
   "source": [
    "# 2.document 확인 : url\n",
    "# post : url, params, headers"
   ]
  },
  {
   "cell_type": "code",
   "execution_count": 21,
   "id": "01476432",
   "metadata": {},
   "outputs": [],
   "source": [
    "url = \"https://dapi.kakao.com/v2/translation/translate\"\n",
    "params = {\"query\" : \"파이썬 웹 크롤링 수업 입니다.\", \n",
    "          \"src_lang\" : \"kr\", \n",
    "          \"target_lang\" : \"en\"}\n",
    "headers = {\"Authorization\": f\"KakaoAK {APP_KEY}\"}"
   ]
  },
  {
   "cell_type": "code",
   "execution_count": 6,
   "id": "75340711",
   "metadata": {},
   "outputs": [],
   "source": [
    "# 3.request(url, app_key, data) > response(json(str))"
   ]
  },
  {
   "cell_type": "code",
   "execution_count": 22,
   "id": "1faf248f",
   "metadata": {},
   "outputs": [
    {
     "data": {
      "text/plain": [
       "<Response [200]>"
      ]
     },
     "execution_count": 22,
     "metadata": {},
     "output_type": "execute_result"
    }
   ],
   "source": [
    "response = requests.post(url, params, headers=headers)\n",
    "response"
   ]
  },
  {
   "cell_type": "code",
   "execution_count": 7,
   "id": "6de184f1",
   "metadata": {},
   "outputs": [],
   "source": [
    "# 4.json(str) > list,dict"
   ]
  },
  {
   "cell_type": "code",
   "execution_count": 23,
   "id": "3b3d0646",
   "metadata": {},
   "outputs": [
    {
     "data": {
      "text/plain": [
       "'Python Web crawling class.'"
      ]
     },
     "execution_count": 23,
     "metadata": {},
     "output_type": "execute_result"
    }
   ],
   "source": [
    "en_txt = response.json()['translated_text'][0][0]\n",
    "en_txt"
   ]
  },
  {
   "cell_type": "code",
   "execution_count": 24,
   "id": "744dc395",
   "metadata": {},
   "outputs": [],
   "source": [
    "# 5. function"
   ]
  },
  {
   "cell_type": "code",
   "execution_count": 41,
   "id": "87bace72",
   "metadata": {},
   "outputs": [
    {
     "data": {
      "text/plain": [
       "'건너편에서 안녕하세요'"
      ]
     },
     "execution_count": 41,
     "metadata": {},
     "output_type": "execute_result"
    }
   ],
   "source": [
    "def translate(text, src = 'kr', target = 'en') :\n",
    "    APP_KEY = \"b9ad5a416320af63b996c30c31b5e8f6\"\n",
    "    url = \"https://dapi.kakao.com/v2/translation/translate\"\n",
    "    params = {\"query\" : f\"{text}\", \n",
    "          \"src_lang\" : f\"{src}\", \n",
    "          \"target_lang\" : f\"{target}\"}\n",
    "    headers = {\"Authorization\": f\"KakaoAK {APP_KEY}\"}\n",
    "    response = requests.post(url, params, headers=headers)\n",
    "    return response.json()['translated_text'][0][0]\n",
    "\n",
    "text = \"hello from the other side\"\n",
    "en_text = translate(text, 'en', 'kr')\n",
    "en_text"
   ]
  },
  {
   "cell_type": "code",
   "execution_count": null,
   "id": "50922104",
   "metadata": {},
   "outputs": [],
   "source": []
  }
 ],
 "metadata": {
  "kernelspec": {
   "display_name": "Python 3",
   "language": "python",
   "name": "python3"
  },
  "language_info": {
   "codemirror_mode": {
    "name": "ipython",
    "version": 3
   },
   "file_extension": ".py",
   "mimetype": "text/x-python",
   "name": "python",
   "nbconvert_exporter": "python",
   "pygments_lexer": "ipython3",
   "version": "3.8.8"
  }
 },
 "nbformat": 4,
 "nbformat_minor": 5
}
