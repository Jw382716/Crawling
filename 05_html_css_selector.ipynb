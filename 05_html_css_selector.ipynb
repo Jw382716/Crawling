{
 "cells": [
  {
   "cell_type": "markdown",
   "id": "4a2adbc1",
   "metadata": {},
   "source": [
    "## 정적 페이지\n",
    "\n",
    "- 정적페이지 : html\n",
    "    - 웹페이지 분석 : url\n",
    "    - request(url) > response(data) : data(html(str))\n",
    "    - data(html(str)) > parsing(bs(css-selector)) > text"
   ]
  },
  {
   "cell_type": "markdown",
   "id": "63f25ea1",
   "metadata": {},
   "source": [
    "#### HTML 구성요소\n",
    "- document : HTML 문서 전체\n",
    "- Element : 하나의 레이아웃을 나타내는 단위\n",
    "- Tag : 레이아웃의 종류를 나타내는 단위 : 주로 시작 태그와 끝 태그가 있음\n",
    "- Attribute : 속성값 : 시작태그에 포함 : 태그에서 특정 기능을 하는 값\n",
    "- Text : 시작태그와 끝 태그 사이에 있는 문자열"
   ]
  },
  {
   "cell_type": "code",
   "execution_count": 6,
   "id": "6c8b48ad",
   "metadata": {},
   "outputs": [
    {
     "data": {
      "text/html": [
       "<div>\n",
       "    <button class = \"btn no1\" value = \"1\"> click 1</button>\n",
       "    <button class = \"btn no2\" value = \"2\"> click 2</button>\n",
       "    <a href = \"https://www.naver.com\" target=\"_blink\">naver</a>\n",
       "</div>\n"
      ],
      "text/plain": [
       "<IPython.core.display.HTML object>"
      ]
     },
     "metadata": {},
     "output_type": "display_data"
    }
   ],
   "source": [
    "%%html\n",
    "<div>\n",
    "    <button class = \"btn no1\" value = \"1\"> click 1</button>\n",
    "    <button class = \"btn no2\" value = \"2\"> click 2</button>\n",
    "    <a href = \"https://www.naver.com\" target=\"_blink\">naver</a>\n",
    "</div>"
   ]
  },
  {
   "cell_type": "code",
   "execution_count": 7,
   "id": "0811ad74",
   "metadata": {},
   "outputs": [
    {
     "data": {
      "text/html": [
       "    <p>kt 1</p>\n",
       "    <p>kt 1</p>\n"
      ],
      "text/plain": [
       "<IPython.core.display.HTML object>"
      ]
     },
     "metadata": {},
     "output_type": "display_data"
    }
   ],
   "source": [
    "%%html\n",
    "    <p>kt 1</p>\n",
    "    <p>kt 1</p>"
   ]
  },
  {
   "cell_type": "code",
   "execution_count": 8,
   "id": "3258cb9b",
   "metadata": {},
   "outputs": [
    {
     "data": {
      "text/html": [
       "    <span>kt 1</span>\n",
       "    <span>kt 1</span>\n"
      ],
      "text/plain": [
       "<IPython.core.display.HTML object>"
      ]
     },
     "metadata": {},
     "output_type": "display_data"
    }
   ],
   "source": [
    "%%html\n",
    "    <span>kt 1</span>\n",
    "    <span>kt 1</span>"
   ]
  },
  {
   "cell_type": "code",
   "execution_count": 12,
   "id": "a35019bc",
   "metadata": {},
   "outputs": [
    {
     "data": {
      "text/html": [
       "<table>\n",
       "    <caption>table tag</caption>\n",
       "    <thead>\n",
       "        <tr>\n",
       "            <th>column1</th>\n",
       "            <th>column2</th>\n",
       "        </tr>\n",
       "    </thead>\n",
       "    <tbody>\n",
       "        <tr>\n",
       "            <th>kt3</th>\n",
       "            <th>kt4</th>\n",
       "        </tr>\n",
       "    </tbody>\n",
       "</table>\n"
      ],
      "text/plain": [
       "<IPython.core.display.HTML object>"
      ]
     },
     "metadata": {},
     "output_type": "display_data"
    }
   ],
   "source": [
    "%%html\n",
    "<table>\n",
    "    <caption>table tag</caption>\n",
    "    <thead>\n",
    "        <tr>\n",
    "            <th>column1</th>\n",
    "            <th>column2</th>\n",
    "        </tr>\n",
    "    </thead>\n",
    "    <tbody>\n",
    "        <tr>\n",
    "            <th>kt3</th>\n",
    "            <th>kt4</th>\n",
    "        </tr>\n",
    "    </tbody>\n",
    "</table>"
   ]
  },
  {
   "cell_type": "code",
   "execution_count": 13,
   "id": "ea1cd094",
   "metadata": {},
   "outputs": [
    {
     "data": {
      "text/html": [
       "<ul>\n",
       "    <li>kt1</li>\n",
       "    <li>kt2</li>\n",
       "</ul>\n"
      ],
      "text/plain": [
       "<IPython.core.display.HTML object>"
      ]
     },
     "metadata": {},
     "output_type": "display_data"
    }
   ],
   "source": [
    "%%html\n",
    "<ul>\n",
    "    <li>kt1</li>\n",
    "    <li>kt2</li>\n",
    "</ul>"
   ]
  },
  {
   "cell_type": "markdown",
   "id": "7ec7885c",
   "metadata": {},
   "source": [
    "#### target = \"_blink\" : 새 탭에서 이동"
   ]
  },
  {
   "cell_type": "code",
   "execution_count": 16,
   "id": "21f8818d",
   "metadata": {},
   "outputs": [
    {
     "data": {
      "text/html": [
       "<a href = \"https://naver.com\" target = '_blink'>NAVER</a>\n"
      ],
      "text/plain": [
       "<IPython.core.display.HTML object>"
      ]
     },
     "metadata": {},
     "output_type": "display_data"
    }
   ],
   "source": [
    "%%html\n",
    "<a href = \"https://naver.com\" target = \"_blink\">NAVER</a>"
   ]
  },
  {
   "cell_type": "code",
   "execution_count": 22,
   "id": "eb270a0a",
   "metadata": {},
   "outputs": [
    {
     "data": {
      "text/html": [
       "<img src = \"https://cfm.kt.com/images/v2/layout/gnb-ktlogo.png\" alt = \"kt\">\n"
      ],
      "text/plain": [
       "<IPython.core.display.HTML object>"
      ]
     },
     "metadata": {},
     "output_type": "display_data"
    }
   ],
   "source": [
    "%%html\n",
    "<img src = \"https://cfm.kt.com/images/v2/layout/gnb-ktlogo.png\" alt = \"kt\">"
   ]
  },
  {
   "cell_type": "markdown",
   "id": "32daca5a",
   "metadata": {},
   "source": [
    "## CSS-Selecter\n",
    "- html element를 선택하기 위한 문법\n",
    "\n",
    "\n",
    "### element를 선택하기 위한 방법들\n",
    "- tag\n",
    "- id\n",
    "- class\n",
    "- attr"
   ]
  },
  {
   "cell_type": "code",
   "execution_count": 25,
   "id": "4320872b",
   "metadata": {},
   "outputs": [],
   "source": [
    "# tag\n",
    "# css-selector : span : kt3 선택"
   ]
  },
  {
   "cell_type": "code",
   "execution_count": 26,
   "id": "63674815",
   "metadata": {},
   "outputs": [
    {
     "data": {
      "text/html": [
       "<div>kt1</div>\n",
       "<p>kt2</p>\n",
       "<span>kt3</span>\n"
      ],
      "text/plain": [
       "<IPython.core.display.HTML object>"
      ]
     },
     "metadata": {},
     "output_type": "display_data"
    }
   ],
   "source": [
    "%%html\n",
    "<div>kt1</div>\n",
    "<p>kt2</p>\n",
    "<span>kt3</span>"
   ]
  },
  {
   "cell_type": "code",
   "execution_count": 27,
   "id": "4c793bf1",
   "metadata": {},
   "outputs": [],
   "source": [
    "# id : 한페이지에 같은 id값을 사용하지 않는다.\n",
    "# css-selector : #d2 : kt2 선택"
   ]
  },
  {
   "cell_type": "code",
   "execution_count": 28,
   "id": "0fa48cc2",
   "metadata": {},
   "outputs": [
    {
     "data": {
      "text/html": [
       "<p id=\"d1\">kt1</p>\n",
       "<p id=\"d2\">kt2</p>\n",
       "<p id=\"d3\">kt3</p>\n"
      ],
      "text/plain": [
       "<IPython.core.display.HTML object>"
      ]
     },
     "metadata": {},
     "output_type": "display_data"
    }
   ],
   "source": [
    "%%html\n",
    "<p id=\"d1\">kt1</p>\n",
    "<p id=\"d2\">kt2</p>\n",
    "<p id=\"d3\">kt3</p>"
   ]
  },
  {
   "cell_type": "code",
   "execution_count": 29,
   "id": "54e89bc6",
   "metadata": {},
   "outputs": [],
   "source": [
    "# class\n",
    "# 하나의 태그에 여러개의 값을 사용할 수 있다.\n",
    "# 한페이지에서 동일 값을 여러번 사용할 수 잇다.\n",
    "# css-selecter : .txt : kt1, kt3 선택"
   ]
  },
  {
   "cell_type": "code",
   "execution_count": 30,
   "id": "c3d5578c",
   "metadata": {},
   "outputs": [
    {
     "data": {
      "text/html": [
       "<p class=\"txt d1\">kt1</p>\n",
       "<p class=\"txt d2\">kt2</p>\n",
       "<p class=\"txt d3\">kt3</p>\n"
      ],
      "text/plain": [
       "<IPython.core.display.HTML object>"
      ]
     },
     "metadata": {},
     "output_type": "display_data"
    }
   ],
   "source": [
    "%%html\n",
    "<p class=\"txt d1\">kt1</p>\n",
    "<p class=\"txt d2\">kt2</p>\n",
    "<p class=\"txt d3\">kt3</p>"
   ]
  },
  {
   "cell_type": "code",
   "execution_count": 31,
   "id": "32c5afc4",
   "metadata": {},
   "outputs": [],
   "source": [
    "# attr\n",
    "# css-selecter : [value = \"no1\"] : kt1 선택"
   ]
  },
  {
   "cell_type": "code",
   "execution_count": 32,
   "id": "e8942368",
   "metadata": {},
   "outputs": [
    {
     "data": {
      "text/html": [
       "<p value=\"no1\">kt1</p>\n",
       "<p value=\"no2\">kt2</p>\n",
       "<p value=\"no3\">kt3</p>\n"
      ],
      "text/plain": [
       "<IPython.core.display.HTML object>"
      ]
     },
     "metadata": {},
     "output_type": "display_data"
    }
   ],
   "source": [
    "%%html\n",
    "<p value=\"no1\">kt1</p>\n",
    "<p value=\"no2\">kt2</p>\n",
    "<p value=\"no3\">kt3</p>"
   ]
  },
  {
   "cell_type": "code",
   "execution_count": 36,
   "id": "7f03d8c5",
   "metadata": {},
   "outputs": [],
   "source": [
    "# 계층적으로 엘리먼트 선택\n",
    "# css-selecter : p : kt1, kt2\n",
    "\n",
    "# > : 한단계 하위 엘리먼트 선택\n",
    "# css-selecter : .wrap > p : kt1\n",
    "\n",
    "# css-selecter : .wrap > div > p : kt2\n",
    "# css-selecter : .wrap p : kt1, kt2\n",
    "\n",
    "# span 태그이면서 no1 클래스를 가진 엘리먼트 선택\n",
    "# css-selecter : span.no1 : kt3"
   ]
  },
  {
   "cell_type": "code",
   "execution_count": 37,
   "id": "b11754bf",
   "metadata": {},
   "outputs": [
    {
     "data": {
      "text/html": [
       "<div class=\"wrap\">\n",
       "    <p>kt1</p>\n",
       "    <div>\n",
       "        <p class = \"no1\">kt2</p>\n",
       "        <span class = \"no1\">kt3</p>\n",
       "    </div>\n",
       "</div>\n"
      ],
      "text/plain": [
       "<IPython.core.display.HTML object>"
      ]
     },
     "metadata": {},
     "output_type": "display_data"
    }
   ],
   "source": [
    "%%html\n",
    "<div class=\"wrap\">\n",
    "    <p>kt1</p>\n",
    "    <div>\n",
    "        <p class = \"no1\">kt2</p>\n",
    "        <span class = \"no1\">kt3</p>\n",
    "    </div>\n",
    "</div>"
   ]
  },
  {
   "cell_type": "code",
   "execution_count": 43,
   "id": "c91b15b6",
   "metadata": {},
   "outputs": [],
   "source": [
    "# nth-child(n) : n번쨰 엘리먼트 선택\n",
    "# css-selecter : .wrap > p:nth-child(2) : kt2\n",
    "# css-selecter : .wrap > p:nth-child(2), .wrap > p:nth-child(3) : kt2, kt3"
   ]
  },
  {
   "cell_type": "code",
   "execution_count": 39,
   "id": "de8d238a",
   "metadata": {},
   "outputs": [
    {
     "data": {
      "text/html": [
       "<div class = \"wrap\">\n",
       "    <p>kt1</p>\n",
       "    <p>kt2</p>\n",
       "    <p>kt3</p>\n",
       "</div>\n"
      ],
      "text/plain": [
       "<IPython.core.display.HTML object>"
      ]
     },
     "metadata": {},
     "output_type": "display_data"
    }
   ],
   "source": [
    "%%html\n",
    "<div class = \"wrap\">\n",
    "    <p>kt1</p>\n",
    "    <p>kt2</p>\n",
    "    <p>kt3</p>\n",
    "</div>"
   ]
  },
  {
   "cell_type": "code",
   "execution_count": 44,
   "id": "c3d7b6a2",
   "metadata": {},
   "outputs": [],
   "source": [
    "# css-selecter : .wrap > p:nth-child(2) : kt1"
   ]
  },
  {
   "cell_type": "code",
   "execution_count": 45,
   "id": "559a7661",
   "metadata": {},
   "outputs": [
    {
     "data": {
      "text/html": [
       "<div class = \"wrap\">\n",
       "    <span>kt0</span>\n",
       "    <p>kt1</p>\n",
       "    <p>kt2</p>\n",
       "    <p>kt3</p>\n",
       "</div>\n"
      ],
      "text/plain": [
       "<IPython.core.display.HTML object>"
      ]
     },
     "metadata": {},
     "output_type": "display_data"
    }
   ],
   "source": [
    "%%html\n",
    "<div class = \"wrap\">\n",
    "    <span>kt0</span>\n",
    "    <p>kt1</p>\n",
    "    <p>kt2</p>\n",
    "    <p>kt3</p>\n",
    "</div>"
   ]
  },
  {
   "cell_type": "code",
   "execution_count": null,
   "id": "4e9e3991",
   "metadata": {},
   "outputs": [],
   "source": []
  }
 ],
 "metadata": {
  "kernelspec": {
   "display_name": "Python 3",
   "language": "python",
   "name": "python3"
  },
  "language_info": {
   "codemirror_mode": {
    "name": "ipython",
    "version": 3
   },
   "file_extension": ".py",
   "mimetype": "text/x-python",
   "name": "python",
   "nbconvert_exporter": "python",
   "pygments_lexer": "ipython3",
   "version": "3.8.8"
  }
 },
 "nbformat": 4,
 "nbformat_minor": 5
}
