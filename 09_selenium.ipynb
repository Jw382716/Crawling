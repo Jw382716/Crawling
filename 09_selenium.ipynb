{
 "cells": [
  {
   "cell_type": "markdown",
   "id": "23a59cc4",
   "metadata": {},
   "source": [
    "## 웹 크롤링 방법\n",
    "- 동적페이지 : json : response.json() : dict, list : DataFrame\n",
    "- 정적페이지 : html : bs : css-selector : text : DataFrame\n",
    "\n",
    "### selenium 을 이용한 크롤링\n",
    "- 동적페이지, 정적페이지, API의 방법으로 데이터를 수집할 수 없을 때 사용\n",
    "- 파이썬 코드로 컨트롤 할 수 있는 자동화된 브라우저를 띄워서 크롤링할 페이지로 이동한 후에 브라우저에 있는 정보를 수집\n",
    "- 웹서비스 테스트 자동화를 목적으로 만들어진 패키지, 다양한 언어로 사용 가능, 다양한 브라우저를 지원\n",
    "\n",
    "#### 동적페이지(json, api) > 정적페이지(html) >>> selenium(browser)-크롤링속도가 느리다\n",
    "\n",
    "- 패키지 인스톨 : !pip install selenium\n",
    "- 크롬 드라이버 다운로드\n",
    "- 현재 디렉토리로 cromedriver.exe 파일 이동"
   ]
  },
  {
   "cell_type": "code",
   "execution_count": 2,
   "id": "929b263a",
   "metadata": {},
   "outputs": [],
   "source": [
    "# !pip install selenium"
   ]
  },
  {
   "cell_type": "code",
   "execution_count": 3,
   "id": "d0fe2e40",
   "metadata": {},
   "outputs": [],
   "source": [
    "import pandas as pd\n",
    "from selenium import webdriver"
   ]
  },
  {
   "cell_type": "code",
   "execution_count": 4,
   "id": "f68dfd9a",
   "metadata": {},
   "outputs": [],
   "source": [
    "# 브라우저 열기"
   ]
  },
  {
   "cell_type": "code",
   "execution_count": 5,
   "id": "4bfb93bc",
   "metadata": {},
   "outputs": [],
   "source": [
    "driver = webdriver.Chrome()"
   ]
  },
  {
   "cell_type": "code",
   "execution_count": 6,
   "id": "92834e54",
   "metadata": {},
   "outputs": [],
   "source": [
    "# 페이지 이동"
   ]
  },
  {
   "cell_type": "code",
   "execution_count": 7,
   "id": "7332ae8b",
   "metadata": {},
   "outputs": [],
   "source": [
    "driver.get(\"https://daum.net\")"
   ]
  },
  {
   "cell_type": "code",
   "execution_count": 8,
   "id": "9ee2bfd5",
   "metadata": {},
   "outputs": [],
   "source": [
    "# 브라우저 사이즈 조절"
   ]
  },
  {
   "cell_type": "code",
   "execution_count": 12,
   "id": "7959aaef",
   "metadata": {},
   "outputs": [],
   "source": [
    "driver.set_window_size(800,1000)"
   ]
  },
  {
   "cell_type": "code",
   "execution_count": 13,
   "id": "9a1d61e5",
   "metadata": {},
   "outputs": [],
   "source": [
    "# 브라우저 종료 : 메모리 100mb 절약\n",
    "driver.quit()"
   ]
  },
  {
   "cell_type": "markdown",
   "id": "82e52913",
   "metadata": {},
   "source": [
    "### Ted 사이트에서 영상 목록 데이터 수집"
   ]
  },
  {
   "cell_type": "code",
   "execution_count": 19,
   "id": "5b93f209",
   "metadata": {},
   "outputs": [],
   "source": [
    "# 1. 브라우저 열기"
   ]
  },
  {
   "cell_type": "code",
   "execution_count": 20,
   "id": "4f89bada",
   "metadata": {},
   "outputs": [],
   "source": [
    "driver = webdriver.Chrome()"
   ]
  },
  {
   "cell_type": "code",
   "execution_count": 21,
   "id": "f4515d72",
   "metadata": {},
   "outputs": [],
   "source": [
    "# 2. 테드 사이트로 이동"
   ]
  },
  {
   "cell_type": "code",
   "execution_count": 22,
   "id": "1272b3dd",
   "metadata": {},
   "outputs": [],
   "source": [
    "driver.get(\"https://ted.com/talks\")"
   ]
  },
  {
   "cell_type": "code",
   "execution_count": 16,
   "id": "d146b1c5",
   "metadata": {},
   "outputs": [],
   "source": [
    "# 3. 타이틀 문자열 데이터 수집"
   ]
  },
  {
   "cell_type": "code",
   "execution_count": 46,
   "id": "5c20cb2c",
   "metadata": {},
   "outputs": [
    {
     "name": "stderr",
     "output_type": "stream",
     "text": [
      "<ipython-input-46-71143bb8505a>:1: DeprecationWarning: find_element_by_* commands are deprecated. Please use find_element() instead\n",
      "  driver.find_element_by_css_selector(\"#banner-secondary\").text\n"
     ]
    },
    {
     "data": {
      "text/plain": [
       "'Join TED Recommends to get the best ideas, selected just for you'"
      ]
     },
     "execution_count": 46,
     "metadata": {},
     "output_type": "execute_result"
    }
   ],
   "source": [
    "driver.find_element_by_css_selector(\"#banner-secondary\").text"
   ]
  },
  {
   "cell_type": "code",
   "execution_count": 47,
   "id": "9bad9563",
   "metadata": {},
   "outputs": [],
   "source": [
    "# 4. 영상의 제목 테이터 수집"
   ]
  },
  {
   "cell_type": "code",
   "execution_count": 48,
   "id": "6fca4b30",
   "metadata": {},
   "outputs": [],
   "source": [
    "# 여러개의 영상 elements 선택"
   ]
  },
  {
   "cell_type": "code",
   "execution_count": 54,
   "id": "706a0594",
   "metadata": {},
   "outputs": [
    {
     "name": "stderr",
     "output_type": "stream",
     "text": [
      "<ipython-input-54-bc720c512cdb>:2: DeprecationWarning: find_elements_by_* commands are deprecated. Please use find_elements() instead\n",
      "  elements = driver.find_elements_by_css_selector(selector)\n"
     ]
    },
    {
     "data": {
      "text/plain": [
       "36"
      ]
     },
     "execution_count": 54,
     "metadata": {},
     "output_type": "execute_result"
    }
   ],
   "source": [
    "selector = \"#browse-results > div.row > div\"\n",
    "elements = driver.find_elements_by_css_selector(selector)\n",
    "len(elements)"
   ]
  },
  {
   "cell_type": "code",
   "execution_count": 50,
   "id": "50cb053a",
   "metadata": {},
   "outputs": [],
   "source": [
    "# 하나의 element에서 필요한 데이터 수집"
   ]
  },
  {
   "cell_type": "code",
   "execution_count": 53,
   "id": "9c92eed2",
   "metadata": {},
   "outputs": [
    {
     "name": "stderr",
     "output_type": "stream",
     "text": [
      "<ipython-input-53-f5ad1833e168>:3: DeprecationWarning: find_element_by_* commands are deprecated. Please use find_element() instead\n",
      "  \"title\" : driver.find_element_by_css_selector(\"h4 > .ga-link\").text,\n",
      "<ipython-input-53-f5ad1833e168>:4: DeprecationWarning: find_element_by_* commands are deprecated. Please use find_element() instead\n",
      "  \"link\" : driver.find_element_by_css_selector(\"h4 > .ga-link\").get_attribute(\"href\"),\n"
     ]
    },
    {
     "data": {
      "text/plain": [
       "{'title': 'Climate action needs new frontline leadership',\n",
       " 'link': 'https://www.ted.com/talks/ozawa_bineshi_albert_climate_action_needs_new_frontline_leadership'}"
      ]
     },
     "execution_count": 53,
     "metadata": {},
     "output_type": "execute_result"
    }
   ],
   "source": [
    "element = elements[0]\n",
    "data = {\n",
    "    \"title\" : driver.find_element_by_css_selector(\"h4 > .ga-link\").text,\n",
    "    \"link\" : driver.find_element_by_css_selector(\"h4 > .ga-link\").get_attribute(\"href\"),\n",
    "}\n",
    "data"
   ]
  },
  {
   "cell_type": "code",
   "execution_count": 52,
   "id": "45f29677",
   "metadata": {},
   "outputs": [
    {
     "name": "stderr",
     "output_type": "stream",
     "text": [
      "<ipython-input-52-4b593f6d15ab>:4: DeprecationWarning: find_element_by_* commands are deprecated. Please use find_element() instead\n",
      "  \"title\" : driver.find_element_by_css_selector(\"h4 > .ga-link\").text,\n",
      "<ipython-input-52-4b593f6d15ab>:5: DeprecationWarning: find_element_by_* commands are deprecated. Please use find_element() instead\n",
      "  \"link\" : driver.find_element_by_css_selector(\"h4 > .ga-link\").get_attribute(\"href\"),\n"
     ]
    },
    {
     "data": {
      "text/html": [
       "<div>\n",
       "<style scoped>\n",
       "    .dataframe tbody tr th:only-of-type {\n",
       "        vertical-align: middle;\n",
       "    }\n",
       "\n",
       "    .dataframe tbody tr th {\n",
       "        vertical-align: top;\n",
       "    }\n",
       "\n",
       "    .dataframe thead th {\n",
       "        text-align: right;\n",
       "    }\n",
       "</style>\n",
       "<table border=\"1\" class=\"dataframe\">\n",
       "  <thead>\n",
       "    <tr style=\"text-align: right;\">\n",
       "      <th></th>\n",
       "      <th>title</th>\n",
       "      <th>link</th>\n",
       "    </tr>\n",
       "  </thead>\n",
       "  <tbody>\n",
       "    <tr>\n",
       "      <th>0</th>\n",
       "      <td>Climate action needs new frontline leadership</td>\n",
       "      <td>https://www.ted.com/talks/ozawa_bineshi_albert...</td>\n",
       "    </tr>\n",
       "    <tr>\n",
       "      <th>1</th>\n",
       "      <td>Climate action needs new frontline leadership</td>\n",
       "      <td>https://www.ted.com/talks/ozawa_bineshi_albert...</td>\n",
       "    </tr>\n",
       "    <tr>\n",
       "      <th>2</th>\n",
       "      <td>Climate action needs new frontline leadership</td>\n",
       "      <td>https://www.ted.com/talks/ozawa_bineshi_albert...</td>\n",
       "    </tr>\n",
       "    <tr>\n",
       "      <th>3</th>\n",
       "      <td>Climate action needs new frontline leadership</td>\n",
       "      <td>https://www.ted.com/talks/ozawa_bineshi_albert...</td>\n",
       "    </tr>\n",
       "    <tr>\n",
       "      <th>4</th>\n",
       "      <td>Climate action needs new frontline leadership</td>\n",
       "      <td>https://www.ted.com/talks/ozawa_bineshi_albert...</td>\n",
       "    </tr>\n",
       "    <tr>\n",
       "      <th>5</th>\n",
       "      <td>Climate action needs new frontline leadership</td>\n",
       "      <td>https://www.ted.com/talks/ozawa_bineshi_albert...</td>\n",
       "    </tr>\n",
       "    <tr>\n",
       "      <th>6</th>\n",
       "      <td>Climate action needs new frontline leadership</td>\n",
       "      <td>https://www.ted.com/talks/ozawa_bineshi_albert...</td>\n",
       "    </tr>\n",
       "    <tr>\n",
       "      <th>7</th>\n",
       "      <td>Climate action needs new frontline leadership</td>\n",
       "      <td>https://www.ted.com/talks/ozawa_bineshi_albert...</td>\n",
       "    </tr>\n",
       "    <tr>\n",
       "      <th>8</th>\n",
       "      <td>Climate action needs new frontline leadership</td>\n",
       "      <td>https://www.ted.com/talks/ozawa_bineshi_albert...</td>\n",
       "    </tr>\n",
       "    <tr>\n",
       "      <th>9</th>\n",
       "      <td>Climate action needs new frontline leadership</td>\n",
       "      <td>https://www.ted.com/talks/ozawa_bineshi_albert...</td>\n",
       "    </tr>\n",
       "    <tr>\n",
       "      <th>10</th>\n",
       "      <td>Climate action needs new frontline leadership</td>\n",
       "      <td>https://www.ted.com/talks/ozawa_bineshi_albert...</td>\n",
       "    </tr>\n",
       "    <tr>\n",
       "      <th>11</th>\n",
       "      <td>Climate action needs new frontline leadership</td>\n",
       "      <td>https://www.ted.com/talks/ozawa_bineshi_albert...</td>\n",
       "    </tr>\n",
       "    <tr>\n",
       "      <th>12</th>\n",
       "      <td>Climate action needs new frontline leadership</td>\n",
       "      <td>https://www.ted.com/talks/ozawa_bineshi_albert...</td>\n",
       "    </tr>\n",
       "    <tr>\n",
       "      <th>13</th>\n",
       "      <td>Climate action needs new frontline leadership</td>\n",
       "      <td>https://www.ted.com/talks/ozawa_bineshi_albert...</td>\n",
       "    </tr>\n",
       "    <tr>\n",
       "      <th>14</th>\n",
       "      <td>Climate action needs new frontline leadership</td>\n",
       "      <td>https://www.ted.com/talks/ozawa_bineshi_albert...</td>\n",
       "    </tr>\n",
       "    <tr>\n",
       "      <th>15</th>\n",
       "      <td>Climate action needs new frontline leadership</td>\n",
       "      <td>https://www.ted.com/talks/ozawa_bineshi_albert...</td>\n",
       "    </tr>\n",
       "    <tr>\n",
       "      <th>16</th>\n",
       "      <td>Climate action needs new frontline leadership</td>\n",
       "      <td>https://www.ted.com/talks/ozawa_bineshi_albert...</td>\n",
       "    </tr>\n",
       "    <tr>\n",
       "      <th>17</th>\n",
       "      <td>Climate action needs new frontline leadership</td>\n",
       "      <td>https://www.ted.com/talks/ozawa_bineshi_albert...</td>\n",
       "    </tr>\n",
       "    <tr>\n",
       "      <th>18</th>\n",
       "      <td>Climate action needs new frontline leadership</td>\n",
       "      <td>https://www.ted.com/talks/ozawa_bineshi_albert...</td>\n",
       "    </tr>\n",
       "    <tr>\n",
       "      <th>19</th>\n",
       "      <td>Climate action needs new frontline leadership</td>\n",
       "      <td>https://www.ted.com/talks/ozawa_bineshi_albert...</td>\n",
       "    </tr>\n",
       "    <tr>\n",
       "      <th>20</th>\n",
       "      <td>Climate action needs new frontline leadership</td>\n",
       "      <td>https://www.ted.com/talks/ozawa_bineshi_albert...</td>\n",
       "    </tr>\n",
       "    <tr>\n",
       "      <th>21</th>\n",
       "      <td>Climate action needs new frontline leadership</td>\n",
       "      <td>https://www.ted.com/talks/ozawa_bineshi_albert...</td>\n",
       "    </tr>\n",
       "    <tr>\n",
       "      <th>22</th>\n",
       "      <td>Climate action needs new frontline leadership</td>\n",
       "      <td>https://www.ted.com/talks/ozawa_bineshi_albert...</td>\n",
       "    </tr>\n",
       "    <tr>\n",
       "      <th>23</th>\n",
       "      <td>Climate action needs new frontline leadership</td>\n",
       "      <td>https://www.ted.com/talks/ozawa_bineshi_albert...</td>\n",
       "    </tr>\n",
       "    <tr>\n",
       "      <th>24</th>\n",
       "      <td>Climate action needs new frontline leadership</td>\n",
       "      <td>https://www.ted.com/talks/ozawa_bineshi_albert...</td>\n",
       "    </tr>\n",
       "    <tr>\n",
       "      <th>25</th>\n",
       "      <td>Climate action needs new frontline leadership</td>\n",
       "      <td>https://www.ted.com/talks/ozawa_bineshi_albert...</td>\n",
       "    </tr>\n",
       "    <tr>\n",
       "      <th>26</th>\n",
       "      <td>Climate action needs new frontline leadership</td>\n",
       "      <td>https://www.ted.com/talks/ozawa_bineshi_albert...</td>\n",
       "    </tr>\n",
       "    <tr>\n",
       "      <th>27</th>\n",
       "      <td>Climate action needs new frontline leadership</td>\n",
       "      <td>https://www.ted.com/talks/ozawa_bineshi_albert...</td>\n",
       "    </tr>\n",
       "    <tr>\n",
       "      <th>28</th>\n",
       "      <td>Climate action needs new frontline leadership</td>\n",
       "      <td>https://www.ted.com/talks/ozawa_bineshi_albert...</td>\n",
       "    </tr>\n",
       "    <tr>\n",
       "      <th>29</th>\n",
       "      <td>Climate action needs new frontline leadership</td>\n",
       "      <td>https://www.ted.com/talks/ozawa_bineshi_albert...</td>\n",
       "    </tr>\n",
       "    <tr>\n",
       "      <th>30</th>\n",
       "      <td>Climate action needs new frontline leadership</td>\n",
       "      <td>https://www.ted.com/talks/ozawa_bineshi_albert...</td>\n",
       "    </tr>\n",
       "    <tr>\n",
       "      <th>31</th>\n",
       "      <td>Climate action needs new frontline leadership</td>\n",
       "      <td>https://www.ted.com/talks/ozawa_bineshi_albert...</td>\n",
       "    </tr>\n",
       "    <tr>\n",
       "      <th>32</th>\n",
       "      <td>Climate action needs new frontline leadership</td>\n",
       "      <td>https://www.ted.com/talks/ozawa_bineshi_albert...</td>\n",
       "    </tr>\n",
       "    <tr>\n",
       "      <th>33</th>\n",
       "      <td>Climate action needs new frontline leadership</td>\n",
       "      <td>https://www.ted.com/talks/ozawa_bineshi_albert...</td>\n",
       "    </tr>\n",
       "    <tr>\n",
       "      <th>34</th>\n",
       "      <td>Climate action needs new frontline leadership</td>\n",
       "      <td>https://www.ted.com/talks/ozawa_bineshi_albert...</td>\n",
       "    </tr>\n",
       "    <tr>\n",
       "      <th>35</th>\n",
       "      <td>Climate action needs new frontline leadership</td>\n",
       "      <td>https://www.ted.com/talks/ozawa_bineshi_albert...</td>\n",
       "    </tr>\n",
       "  </tbody>\n",
       "</table>\n",
       "</div>"
      ],
      "text/plain": [
       "                                            title  \\\n",
       "0   Climate action needs new frontline leadership   \n",
       "1   Climate action needs new frontline leadership   \n",
       "2   Climate action needs new frontline leadership   \n",
       "3   Climate action needs new frontline leadership   \n",
       "4   Climate action needs new frontline leadership   \n",
       "5   Climate action needs new frontline leadership   \n",
       "6   Climate action needs new frontline leadership   \n",
       "7   Climate action needs new frontline leadership   \n",
       "8   Climate action needs new frontline leadership   \n",
       "9   Climate action needs new frontline leadership   \n",
       "10  Climate action needs new frontline leadership   \n",
       "11  Climate action needs new frontline leadership   \n",
       "12  Climate action needs new frontline leadership   \n",
       "13  Climate action needs new frontline leadership   \n",
       "14  Climate action needs new frontline leadership   \n",
       "15  Climate action needs new frontline leadership   \n",
       "16  Climate action needs new frontline leadership   \n",
       "17  Climate action needs new frontline leadership   \n",
       "18  Climate action needs new frontline leadership   \n",
       "19  Climate action needs new frontline leadership   \n",
       "20  Climate action needs new frontline leadership   \n",
       "21  Climate action needs new frontline leadership   \n",
       "22  Climate action needs new frontline leadership   \n",
       "23  Climate action needs new frontline leadership   \n",
       "24  Climate action needs new frontline leadership   \n",
       "25  Climate action needs new frontline leadership   \n",
       "26  Climate action needs new frontline leadership   \n",
       "27  Climate action needs new frontline leadership   \n",
       "28  Climate action needs new frontline leadership   \n",
       "29  Climate action needs new frontline leadership   \n",
       "30  Climate action needs new frontline leadership   \n",
       "31  Climate action needs new frontline leadership   \n",
       "32  Climate action needs new frontline leadership   \n",
       "33  Climate action needs new frontline leadership   \n",
       "34  Climate action needs new frontline leadership   \n",
       "35  Climate action needs new frontline leadership   \n",
       "\n",
       "                                                 link  \n",
       "0   https://www.ted.com/talks/ozawa_bineshi_albert...  \n",
       "1   https://www.ted.com/talks/ozawa_bineshi_albert...  \n",
       "2   https://www.ted.com/talks/ozawa_bineshi_albert...  \n",
       "3   https://www.ted.com/talks/ozawa_bineshi_albert...  \n",
       "4   https://www.ted.com/talks/ozawa_bineshi_albert...  \n",
       "5   https://www.ted.com/talks/ozawa_bineshi_albert...  \n",
       "6   https://www.ted.com/talks/ozawa_bineshi_albert...  \n",
       "7   https://www.ted.com/talks/ozawa_bineshi_albert...  \n",
       "8   https://www.ted.com/talks/ozawa_bineshi_albert...  \n",
       "9   https://www.ted.com/talks/ozawa_bineshi_albert...  \n",
       "10  https://www.ted.com/talks/ozawa_bineshi_albert...  \n",
       "11  https://www.ted.com/talks/ozawa_bineshi_albert...  \n",
       "12  https://www.ted.com/talks/ozawa_bineshi_albert...  \n",
       "13  https://www.ted.com/talks/ozawa_bineshi_albert...  \n",
       "14  https://www.ted.com/talks/ozawa_bineshi_albert...  \n",
       "15  https://www.ted.com/talks/ozawa_bineshi_albert...  \n",
       "16  https://www.ted.com/talks/ozawa_bineshi_albert...  \n",
       "17  https://www.ted.com/talks/ozawa_bineshi_albert...  \n",
       "18  https://www.ted.com/talks/ozawa_bineshi_albert...  \n",
       "19  https://www.ted.com/talks/ozawa_bineshi_albert...  \n",
       "20  https://www.ted.com/talks/ozawa_bineshi_albert...  \n",
       "21  https://www.ted.com/talks/ozawa_bineshi_albert...  \n",
       "22  https://www.ted.com/talks/ozawa_bineshi_albert...  \n",
       "23  https://www.ted.com/talks/ozawa_bineshi_albert...  \n",
       "24  https://www.ted.com/talks/ozawa_bineshi_albert...  \n",
       "25  https://www.ted.com/talks/ozawa_bineshi_albert...  \n",
       "26  https://www.ted.com/talks/ozawa_bineshi_albert...  \n",
       "27  https://www.ted.com/talks/ozawa_bineshi_albert...  \n",
       "28  https://www.ted.com/talks/ozawa_bineshi_albert...  \n",
       "29  https://www.ted.com/talks/ozawa_bineshi_albert...  \n",
       "30  https://www.ted.com/talks/ozawa_bineshi_albert...  \n",
       "31  https://www.ted.com/talks/ozawa_bineshi_albert...  \n",
       "32  https://www.ted.com/talks/ozawa_bineshi_albert...  \n",
       "33  https://www.ted.com/talks/ozawa_bineshi_albert...  \n",
       "34  https://www.ted.com/talks/ozawa_bineshi_albert...  \n",
       "35  https://www.ted.com/talks/ozawa_bineshi_albert...  "
      ]
     },
     "execution_count": 52,
     "metadata": {},
     "output_type": "execute_result"
    }
   ],
   "source": [
    "datas = []\n",
    "for element in elements :\n",
    "    datas.append({\n",
    "    \"title\" : driver.find_element_by_css_selector(\"h4 > .ga-link\").text,\n",
    "    \"link\" : driver.find_element_by_css_selector(\"h4 > .ga-link\").get_attribute(\"href\"), \n",
    "    })\n",
    "df = pd.DataFrame(datas)\n",
    "df"
   ]
  },
  {
   "cell_type": "code",
   "execution_count": 18,
   "id": "22465ef1",
   "metadata": {},
   "outputs": [],
   "source": [
    "# 5. 셀렉트 박스의 한국어 클릭하기"
   ]
  },
  {
   "cell_type": "code",
   "execution_count": 45,
   "id": "08a5c542",
   "metadata": {},
   "outputs": [
    {
     "name": "stderr",
     "output_type": "stream",
     "text": [
      "<ipython-input-45-d1a2c38f3662>:1: DeprecationWarning: find_element_by_* commands are deprecated. Please use find_element() instead\n",
      "  driver.find_element_by_css_selector('[lang=\"ko\"]').click()\n"
     ]
    },
    {
     "ename": "ElementNotInteractableException",
     "evalue": "Message: element not interactable: Element is not currently visible and may not be manipulated\n  (Session info: chrome=98.0.4758.102)\nStacktrace:\nBacktrace:\n\tOrdinal0 [0x006069A3+2582947]\n\tOrdinal0 [0x0059A6D1+2139857]\n\tOrdinal0 [0x00493A98+1063576]\n\tOrdinal0 [0x004962B7+1073847]\n\tOrdinal0 [0x0049617E+1073534]\n\tOrdinal0 [0x004963F0+1074160]\n\tOrdinal0 [0x004C3808+1259528]\n\tOrdinal0 [0x004B71D9+1208793]\n\tOrdinal0 [0x004D854C+1344844]\n\tOrdinal0 [0x004B6524+1205540]\n\tOrdinal0 [0x004D86A4+1345188]\n\tOrdinal0 [0x004E834A+1409866]\n\tOrdinal0 [0x004D8366+1344358]\n\tOrdinal0 [0x004B5176+1200502]\n\tOrdinal0 [0x004B6066+1204326]\n\tGetHandleVerifier [0x007ABE02+1675858]\n\tGetHandleVerifier [0x0086036C+2414524]\n\tGetHandleVerifier [0x0069BB01+560977]\n\tGetHandleVerifier [0x0069A8D3+556323]\n\tOrdinal0 [0x005A020E+2163214]\n\tOrdinal0 [0x005A5078+2183288]\n\tOrdinal0 [0x005A51C0+2183616]\n\tOrdinal0 [0x005AEE1C+2223644]\n\tBaseThreadInitThunk [0x765DFA29+25]\n\tRtlGetAppContainerNamedObjectPath [0x77627A9E+286]\n\tRtlGetAppContainerNamedObjectPath [0x77627A6E+238]\n",
     "output_type": "error",
     "traceback": [
      "\u001b[1;31m---------------------------------------------------------------------------\u001b[0m",
      "\u001b[1;31mElementNotInteractableException\u001b[0m           Traceback (most recent call last)",
      "\u001b[1;32m<ipython-input-45-d1a2c38f3662>\u001b[0m in \u001b[0;36m<module>\u001b[1;34m\u001b[0m\n\u001b[1;32m----> 1\u001b[1;33m \u001b[0mdriver\u001b[0m\u001b[1;33m.\u001b[0m\u001b[0mfind_element_by_css_selector\u001b[0m\u001b[1;33m(\u001b[0m\u001b[1;34m'[lang=\"ko\"]'\u001b[0m\u001b[1;33m)\u001b[0m\u001b[1;33m.\u001b[0m\u001b[0mclick\u001b[0m\u001b[1;33m(\u001b[0m\u001b[1;33m)\u001b[0m\u001b[1;33m\u001b[0m\u001b[1;33m\u001b[0m\u001b[0m\n\u001b[0m",
      "\u001b[1;32m~\\anaconda3\\lib\\site-packages\\selenium\\webdriver\\remote\\webelement.py\u001b[0m in \u001b[0;36mclick\u001b[1;34m(self)\u001b[0m\n\u001b[0;32m     79\u001b[0m     \u001b[1;32mdef\u001b[0m \u001b[0mclick\u001b[0m\u001b[1;33m(\u001b[0m\u001b[0mself\u001b[0m\u001b[1;33m)\u001b[0m \u001b[1;33m->\u001b[0m \u001b[1;32mNone\u001b[0m\u001b[1;33m:\u001b[0m\u001b[1;33m\u001b[0m\u001b[1;33m\u001b[0m\u001b[0m\n\u001b[0;32m     80\u001b[0m         \u001b[1;34m\"\"\"Clicks the element.\"\"\"\u001b[0m\u001b[1;33m\u001b[0m\u001b[1;33m\u001b[0m\u001b[0m\n\u001b[1;32m---> 81\u001b[1;33m         \u001b[0mself\u001b[0m\u001b[1;33m.\u001b[0m\u001b[0m_execute\u001b[0m\u001b[1;33m(\u001b[0m\u001b[0mCommand\u001b[0m\u001b[1;33m.\u001b[0m\u001b[0mCLICK_ELEMENT\u001b[0m\u001b[1;33m)\u001b[0m\u001b[1;33m\u001b[0m\u001b[1;33m\u001b[0m\u001b[0m\n\u001b[0m\u001b[0;32m     82\u001b[0m \u001b[1;33m\u001b[0m\u001b[0m\n\u001b[0;32m     83\u001b[0m     \u001b[1;32mdef\u001b[0m \u001b[0msubmit\u001b[0m\u001b[1;33m(\u001b[0m\u001b[0mself\u001b[0m\u001b[1;33m)\u001b[0m\u001b[1;33m:\u001b[0m\u001b[1;33m\u001b[0m\u001b[1;33m\u001b[0m\u001b[0m\n",
      "\u001b[1;32m~\\anaconda3\\lib\\site-packages\\selenium\\webdriver\\remote\\webelement.py\u001b[0m in \u001b[0;36m_execute\u001b[1;34m(self, command, params)\u001b[0m\n\u001b[0;32m    708\u001b[0m             \u001b[0mparams\u001b[0m \u001b[1;33m=\u001b[0m \u001b[1;33m{\u001b[0m\u001b[1;33m}\u001b[0m\u001b[1;33m\u001b[0m\u001b[1;33m\u001b[0m\u001b[0m\n\u001b[0;32m    709\u001b[0m         \u001b[0mparams\u001b[0m\u001b[1;33m[\u001b[0m\u001b[1;34m'id'\u001b[0m\u001b[1;33m]\u001b[0m \u001b[1;33m=\u001b[0m \u001b[0mself\u001b[0m\u001b[1;33m.\u001b[0m\u001b[0m_id\u001b[0m\u001b[1;33m\u001b[0m\u001b[1;33m\u001b[0m\u001b[0m\n\u001b[1;32m--> 710\u001b[1;33m         \u001b[1;32mreturn\u001b[0m \u001b[0mself\u001b[0m\u001b[1;33m.\u001b[0m\u001b[0m_parent\u001b[0m\u001b[1;33m.\u001b[0m\u001b[0mexecute\u001b[0m\u001b[1;33m(\u001b[0m\u001b[0mcommand\u001b[0m\u001b[1;33m,\u001b[0m \u001b[0mparams\u001b[0m\u001b[1;33m)\u001b[0m\u001b[1;33m\u001b[0m\u001b[1;33m\u001b[0m\u001b[0m\n\u001b[0m\u001b[0;32m    711\u001b[0m \u001b[1;33m\u001b[0m\u001b[0m\n\u001b[0;32m    712\u001b[0m     \u001b[1;32mdef\u001b[0m \u001b[0mfind_element\u001b[0m\u001b[1;33m(\u001b[0m\u001b[0mself\u001b[0m\u001b[1;33m,\u001b[0m \u001b[0mby\u001b[0m\u001b[1;33m=\u001b[0m\u001b[0mBy\u001b[0m\u001b[1;33m.\u001b[0m\u001b[0mID\u001b[0m\u001b[1;33m,\u001b[0m \u001b[0mvalue\u001b[0m\u001b[1;33m=\u001b[0m\u001b[1;32mNone\u001b[0m\u001b[1;33m)\u001b[0m\u001b[1;33m:\u001b[0m\u001b[1;33m\u001b[0m\u001b[1;33m\u001b[0m\u001b[0m\n",
      "\u001b[1;32m~\\anaconda3\\lib\\site-packages\\selenium\\webdriver\\remote\\webdriver.py\u001b[0m in \u001b[0;36mexecute\u001b[1;34m(self, driver_command, params)\u001b[0m\n\u001b[0;32m    422\u001b[0m         \u001b[0mresponse\u001b[0m \u001b[1;33m=\u001b[0m \u001b[0mself\u001b[0m\u001b[1;33m.\u001b[0m\u001b[0mcommand_executor\u001b[0m\u001b[1;33m.\u001b[0m\u001b[0mexecute\u001b[0m\u001b[1;33m(\u001b[0m\u001b[0mdriver_command\u001b[0m\u001b[1;33m,\u001b[0m \u001b[0mparams\u001b[0m\u001b[1;33m)\u001b[0m\u001b[1;33m\u001b[0m\u001b[1;33m\u001b[0m\u001b[0m\n\u001b[0;32m    423\u001b[0m         \u001b[1;32mif\u001b[0m \u001b[0mresponse\u001b[0m\u001b[1;33m:\u001b[0m\u001b[1;33m\u001b[0m\u001b[1;33m\u001b[0m\u001b[0m\n\u001b[1;32m--> 424\u001b[1;33m             \u001b[0mself\u001b[0m\u001b[1;33m.\u001b[0m\u001b[0merror_handler\u001b[0m\u001b[1;33m.\u001b[0m\u001b[0mcheck_response\u001b[0m\u001b[1;33m(\u001b[0m\u001b[0mresponse\u001b[0m\u001b[1;33m)\u001b[0m\u001b[1;33m\u001b[0m\u001b[1;33m\u001b[0m\u001b[0m\n\u001b[0m\u001b[0;32m    425\u001b[0m             response['value'] = self._unwrap_value(\n\u001b[0;32m    426\u001b[0m                 response.get('value', None))\n",
      "\u001b[1;32m~\\anaconda3\\lib\\site-packages\\selenium\\webdriver\\remote\\errorhandler.py\u001b[0m in \u001b[0;36mcheck_response\u001b[1;34m(self, response)\u001b[0m\n\u001b[0;32m    245\u001b[0m                 \u001b[0malert_text\u001b[0m \u001b[1;33m=\u001b[0m \u001b[0mvalue\u001b[0m\u001b[1;33m[\u001b[0m\u001b[1;34m'alert'\u001b[0m\u001b[1;33m]\u001b[0m\u001b[1;33m.\u001b[0m\u001b[0mget\u001b[0m\u001b[1;33m(\u001b[0m\u001b[1;34m'text'\u001b[0m\u001b[1;33m)\u001b[0m\u001b[1;33m\u001b[0m\u001b[1;33m\u001b[0m\u001b[0m\n\u001b[0;32m    246\u001b[0m             \u001b[1;32mraise\u001b[0m \u001b[0mexception_class\u001b[0m\u001b[1;33m(\u001b[0m\u001b[0mmessage\u001b[0m\u001b[1;33m,\u001b[0m \u001b[0mscreen\u001b[0m\u001b[1;33m,\u001b[0m \u001b[0mstacktrace\u001b[0m\u001b[1;33m,\u001b[0m \u001b[0malert_text\u001b[0m\u001b[1;33m)\u001b[0m  \u001b[1;31m# type: ignore[call-arg]  # mypy is not smart enough here\u001b[0m\u001b[1;33m\u001b[0m\u001b[1;33m\u001b[0m\u001b[0m\n\u001b[1;32m--> 247\u001b[1;33m         \u001b[1;32mraise\u001b[0m \u001b[0mexception_class\u001b[0m\u001b[1;33m(\u001b[0m\u001b[0mmessage\u001b[0m\u001b[1;33m,\u001b[0m \u001b[0mscreen\u001b[0m\u001b[1;33m,\u001b[0m \u001b[0mstacktrace\u001b[0m\u001b[1;33m)\u001b[0m\u001b[1;33m\u001b[0m\u001b[1;33m\u001b[0m\u001b[0m\n\u001b[0m\u001b[0;32m    248\u001b[0m \u001b[1;33m\u001b[0m\u001b[0m\n\u001b[0;32m    249\u001b[0m     \u001b[1;32mdef\u001b[0m \u001b[0m_value_or_default\u001b[0m\u001b[1;33m(\u001b[0m\u001b[0mself\u001b[0m\u001b[1;33m,\u001b[0m \u001b[0mobj\u001b[0m\u001b[1;33m:\u001b[0m \u001b[0mMapping\u001b[0m\u001b[1;33m[\u001b[0m\u001b[0m_KT\u001b[0m\u001b[1;33m,\u001b[0m \u001b[0m_VT\u001b[0m\u001b[1;33m]\u001b[0m\u001b[1;33m,\u001b[0m \u001b[0mkey\u001b[0m\u001b[1;33m:\u001b[0m \u001b[0m_KT\u001b[0m\u001b[1;33m,\u001b[0m \u001b[0mdefault\u001b[0m\u001b[1;33m:\u001b[0m \u001b[0m_VT\u001b[0m\u001b[1;33m)\u001b[0m \u001b[1;33m->\u001b[0m \u001b[0m_VT\u001b[0m\u001b[1;33m:\u001b[0m\u001b[1;33m\u001b[0m\u001b[1;33m\u001b[0m\u001b[0m\n",
      "\u001b[1;31mElementNotInteractableException\u001b[0m: Message: element not interactable: Element is not currently visible and may not be manipulated\n  (Session info: chrome=98.0.4758.102)\nStacktrace:\nBacktrace:\n\tOrdinal0 [0x006069A3+2582947]\n\tOrdinal0 [0x0059A6D1+2139857]\n\tOrdinal0 [0x00493A98+1063576]\n\tOrdinal0 [0x004962B7+1073847]\n\tOrdinal0 [0x0049617E+1073534]\n\tOrdinal0 [0x004963F0+1074160]\n\tOrdinal0 [0x004C3808+1259528]\n\tOrdinal0 [0x004B71D9+1208793]\n\tOrdinal0 [0x004D854C+1344844]\n\tOrdinal0 [0x004B6524+1205540]\n\tOrdinal0 [0x004D86A4+1345188]\n\tOrdinal0 [0x004E834A+1409866]\n\tOrdinal0 [0x004D8366+1344358]\n\tOrdinal0 [0x004B5176+1200502]\n\tOrdinal0 [0x004B6066+1204326]\n\tGetHandleVerifier [0x007ABE02+1675858]\n\tGetHandleVerifier [0x0086036C+2414524]\n\tGetHandleVerifier [0x0069BB01+560977]\n\tGetHandleVerifier [0x0069A8D3+556323]\n\tOrdinal0 [0x005A020E+2163214]\n\tOrdinal0 [0x005A5078+2183288]\n\tOrdinal0 [0x005A51C0+2183616]\n\tOrdinal0 [0x005AEE1C+2223644]\n\tBaseThreadInitThunk [0x765DFA29+25]\n\tRtlGetAppContainerNamedObjectPath [0x77627A9E+286]\n\tRtlGetAppContainerNamedObjectPath [0x77627A6E+238]\n"
     ]
    }
   ],
   "source": [
    "driver.find_element_by_css_selector('[lang=\"ko\"]').click()"
   ]
  },
  {
   "cell_type": "code",
   "execution_count": 55,
   "id": "ec2bb0c6",
   "metadata": {},
   "outputs": [],
   "source": [
    "# 6. 출력된 영상의 제목 데이터 수집하기"
   ]
  },
  {
   "cell_type": "code",
   "execution_count": 56,
   "id": "94701772",
   "metadata": {},
   "outputs": [],
   "source": [
    "driver.get(\"https://daum.net\")"
   ]
  },
  {
   "cell_type": "code",
   "execution_count": null,
   "id": "aa3fe1dc",
   "metadata": {},
   "outputs": [],
   "source": []
  }
 ],
 "metadata": {
  "kernelspec": {
   "display_name": "Python 3",
   "language": "python",
   "name": "python3"
  },
  "language_info": {
   "codemirror_mode": {
    "name": "ipython",
    "version": 3
   },
   "file_extension": ".py",
   "mimetype": "text/x-python",
   "name": "python",
   "nbconvert_exporter": "python",
   "pygments_lexer": "ipython3",
   "version": "3.8.8"
  }
 },
 "nbformat": 4,
 "nbformat_minor": 5
}
